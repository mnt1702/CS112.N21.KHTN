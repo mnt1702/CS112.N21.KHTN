{
  "nbformat": 4,
  "nbformat_minor": 0,
  "metadata": {
    "colab": {
      "provenance": []
    },
    "kernelspec": {
      "name": "python3",
      "display_name": "Python 3"
    },
    "language_info": {
      "name": "python"
    }
  },
  "cells": [
    {
      "cell_type": "code",
      "source": [
        "import sys\n",
        "import random\n",
        "import time\n",
        "from collections import defaultdict"
      ],
      "metadata": {
        "id": "hjqa8_V9OdUt"
      },
      "execution_count": 451,
      "outputs": []
    },
    {
      "cell_type": "markdown",
      "source": [
        "# Kruskal Algorithm Implementation (adjacency list)"
      ],
      "metadata": {
        "id": "ULNLqw5rbiw9"
      }
    },
    {
      "cell_type": "code",
      "execution_count": 452,
      "metadata": {
        "id": "GiWvViUzN5Bw"
      },
      "outputs": [],
      "source": [
        "class Graph_Kruskal:\n",
        "\n",
        "    def __init__(self, vertices, graph = []):\n",
        "        self.V = vertices\n",
        "        self.graph = graph\n",
        " \n",
        "    # Function to add an edge to graph\n",
        "    def addEdge(self, u, v, w):\n",
        "        self.graph.append([u, v, w])\n",
        " \n",
        "    # A utility function to find set of an element i\n",
        "    # (truly uses path compression technique)\n",
        "    def find(self, parent, i):\n",
        "        if parent[i] != i:\n",
        " \n",
        "            # Reassignment of node's parent\n",
        "            # to root node as\n",
        "            # path compression requires\n",
        "            parent[i] = self.find(parent, parent[i])\n",
        "        return parent[i]\n",
        " \n",
        "    # A function that does union of two sets of x and y\n",
        "    # (uses union by rank)\n",
        "    def union(self, parent, rank, x, y):\n",
        " \n",
        "        # Attach smaller rank tree under root of\n",
        "        # high rank tree (Union by Rank)\n",
        "        if rank[x] < rank[y]:\n",
        "            parent[x] = y\n",
        "        elif rank[x] > rank[y]:\n",
        "            parent[y] = x\n",
        " \n",
        "        # If ranks are same, then make one as root\n",
        "        # and increment its rank by one\n",
        "        else:\n",
        "            parent[y] = x\n",
        "            rank[x] += 1\n",
        " \n",
        "    # The main function to construct MST\n",
        "    # using Kruskal's algorithm\n",
        "    def KruskalMST(self):\n",
        "\n",
        "        start = time.time()\n",
        "        # This will store the resultant MST\n",
        "        result = []\n",
        " \n",
        "        # An index variable, used for sorted edges\n",
        "        i = 0\n",
        " \n",
        "        # An index variable, used for result[]\n",
        "        e = 0\n",
        " \n",
        "        # Sort all the edges in\n",
        "        # non-decreasing order of their\n",
        "        # weight\n",
        "        self.graph = sorted(self.graph,\n",
        "                            key=lambda item: item[2])\n",
        " \n",
        "        parent = []\n",
        "        rank = []\n",
        " \n",
        "        # Create V subsets with single elements\n",
        "        for node in range(self.V):\n",
        "            parent.append(node)\n",
        "            rank.append(0)\n",
        " \n",
        "        # Number of edges to be taken is less than to V-1\n",
        "        while e < self.V - 1:\n",
        " \n",
        "            # Pick the smallest edge and increment\n",
        "            # the index for next iteration\n",
        "            u, v, w = self.graph[i]\n",
        "            i = i + 1\n",
        "            x = self.find(parent, u)\n",
        "            y = self.find(parent, v)\n",
        " \n",
        "            # If including this edge doesn't\n",
        "            # cause cycle, then include it in result\n",
        "            # and increment the index of result\n",
        "            # for next edge\n",
        "            if x != y:\n",
        "                e = e + 1\n",
        "                result.append([u, v, w])\n",
        "                self.union(parent, rank, x, y)\n",
        "            # Else discard the edge\n",
        "\n",
        "        end = time.time()\n",
        "\n",
        "        minimumCost = 0\n",
        "        #print(\"\\tEdge\\t\\tWeight\")\n",
        "        for u, v, weight in result:\n",
        "            minimumCost += weight\n",
        "        #    print(\"%d\\t-\\t%d\\t%d\" % (u, v, weight))\n",
        "        print(\"Min Weight:\", minimumCost)\n",
        "        print(\"Execution time:\", (end-start) * 10**3, \"ms\")"
      ]
    },
    {
      "cell_type": "markdown",
      "source": [
        "# Prim Algorithm Implementation (adjacency matrix)"
      ],
      "metadata": {
        "id": "i4Z0j0ptbmqs"
      }
    },
    {
      "cell_type": "code",
      "source": [
        "class Graph_Prim:\n",
        "    def __init__(self, vertices, graph = []):\n",
        "        self.V = vertices\n",
        "        self.graph = graph\n",
        " \n",
        "    # A utility function to print\n",
        "    # the constructed MST stored in parent[]\n",
        "    def printMST(self, parent, start, end):\n",
        "        #print(\"\\tEdge\\t\\tWeight\")\n",
        "        min_W = 0\n",
        "        for i in range(1, self.V):\n",
        "            min_W += self.graph[i][parent[i]]\n",
        "        #    print(\"%d\\t-\\t%d\\t%d\" % (parent[i], i, self.graph[i][parent[i]])) \n",
        "        print(\"Min Weight:\", min_W)\n",
        "        print(\"Execution time:\", (end-start) * 10**3, \"ms\")\n",
        "    # A utility function to find the vertex with\n",
        "    # minimum distance value, from the set of vertices\n",
        "    # not yet included in shortest path tree\n",
        "    def minKey(self, key, mstSet):\n",
        " \n",
        "        # Initialize min value\n",
        "        min = sys.maxsize\n",
        "        \n",
        "        for v in range(self.V):\n",
        "            if key[v] < min and mstSet[v] == False:\n",
        "                min = key[v]\n",
        "                min_index = v\n",
        " \n",
        "        return min_index\n",
        " \n",
        "    # Function to construct and print MST for a graph\n",
        "    # represented using adjacency matrix representation\n",
        "    def primMST(self):\n",
        " \n",
        "        start = time.time()\n",
        "        # Key values used to pick minimum weight edge in cut\n",
        "        key = [sys.maxsize] * self.V\n",
        "        parent = [None] * self.V  # Array to store constructed MST\n",
        "        # Make key 0 so that this vertex is picked as first vertex\n",
        "        key[0] = 0\n",
        "        mstSet = [False] * self.V\n",
        " \n",
        "        parent[0] = -1  # First node is always the root of\n",
        " \n",
        "        for cout in range(self.V):\n",
        " \n",
        "            # Pick the minimum distance vertex from\n",
        "            # the set of vertices not yet processed.\n",
        "            # u is always equal to src in first iteration\n",
        "            u = self.minKey(key, mstSet)\n",
        " \n",
        "            # Put the minimum distance vertex in\n",
        "            # the shortest path tree\n",
        "            mstSet[u] = True\n",
        " \n",
        "            # Update dist value of the adjacent vertices\n",
        "            # of the picked vertex only if the current\n",
        "            # distance is greater than new distance and\n",
        "            # the vertex in not in the shortest path tree\n",
        "            for v in range(self.V):\n",
        " \n",
        "                # graph[u][v] is non zero only for adjacent vertices of m\n",
        "                # mstSet[v] is false for vertices not yet included in MST\n",
        "                # Update the key only if graph[u][v] is smaller than key[v]\n",
        "                if self.graph[u][v] > 0 and mstSet[v] == False \\\n",
        "                and key[v] > self.graph[u][v]:\n",
        "                    key[v] = self.graph[u][v]\n",
        "                    parent[v] = u\n",
        "        \n",
        "        end = time.time()\n",
        "\n",
        "        self.printMST(parent, start, end)"
      ],
      "metadata": {
        "id": "IvWjKf7iOUoh"
      },
      "execution_count": 453,
      "outputs": []
    },
    {
      "cell_type": "code",
      "source": [
        "\"\"\"\n",
        "class Heap():\n",
        " \n",
        "    def __init__(self):\n",
        "        self.array = []\n",
        "        self.size = 0\n",
        "        self.pos = []\n",
        " \n",
        "    def newMinHeapNode(self, v, dist):\n",
        "        minHeapNode = [v, dist]\n",
        "        return minHeapNode\n",
        " \n",
        "    # A utility function to swap two nodes of\n",
        "    # min heap. Needed for min heapify\n",
        "    def swapMinHeapNode(self, a, b):\n",
        "        t = self.array[a]\n",
        "        self.array[a] = self.array[b]\n",
        "        self.array[b] = t\n",
        " \n",
        "    # A standard function to heapify at given idx\n",
        "    # This function also updates position of nodes\n",
        "    # when they are swapped. Position is needed\n",
        "    # for decreaseKey()\n",
        "    def minHeapify(self, idx):\n",
        "        smallest = idx\n",
        "        left = 2 * idx + 1\n",
        "        right = 2 * idx + 2\n",
        " \n",
        "        if left < self.size and self.array[left][1] < \\\n",
        "                self.array[smallest][1]:\n",
        "            smallest = left\n",
        " \n",
        "        if right < self.size and self.array[right][1] < \\\n",
        "                self.array[smallest][1]:\n",
        "            smallest = right\n",
        " \n",
        "        # The nodes to be swapped in min heap\n",
        "        # if idx is not smallest\n",
        "        if smallest != idx:\n",
        " \n",
        "            # Swap positions\n",
        "            self.pos[self.array[smallest][0]] = idx\n",
        "            self.pos[self.array[idx][0]] = smallest\n",
        " \n",
        "            # Swap nodes\n",
        "            self.swapMinHeapNode(smallest, idx)\n",
        " \n",
        "            self.minHeapify(smallest)\n",
        " \n",
        "    # Standard function to extract minimum node from heap\n",
        "    def extractMin(self):\n",
        " \n",
        "        # Return NULL wif heap is empty\n",
        "        if self.isEmpty() == True:\n",
        "            return\n",
        " \n",
        "        # Store the root node\n",
        "        root = self.array[0]\n",
        " \n",
        "        # Replace root node with last node\n",
        "        lastNode = self.array[self.size - 1]\n",
        "        self.array[0] = lastNode\n",
        " \n",
        "        # Update position of last node\n",
        "        self.pos[lastNode[0]] = 0\n",
        "        self.pos[root[0]] = self.size - 1\n",
        " \n",
        "        # Reduce heap size and heapify root\n",
        "        self.size -= 1\n",
        "        self.minHeapify(0)\n",
        " \n",
        "        return root\n",
        " \n",
        "    def isEmpty(self):\n",
        "        return True if self.size == 0 else False\n",
        " \n",
        "    def decreaseKey(self, v, dist):\n",
        " \n",
        "        # Get the index of v in  heap array\n",
        " \n",
        "        i = int(self.pos[v])\n",
        "        \n",
        "        # Get the node and update its dist value\n",
        "        self.array[i][1] = dist\n",
        " \n",
        "        # Travel up while the complete tree is not\n",
        "        # heapified. This is a O(Logn) loop\n",
        "        while i > 0 and self.array[i][1] < \\\n",
        "                self.array[(i - 1) // 2][1]:\n",
        " \n",
        "            # Swap this node with its parent\n",
        "            self.pos[self.array[i][0]] = (i-1)/2\n",
        "            self.pos[self.array[(i-1)//2][0]] = i\n",
        "            self.swapMinHeapNode(i, (i - 1)//2)\n",
        " \n",
        "            # move to parent index\n",
        "            i = (i - 1) // 2\n",
        " \n",
        "    # A utility function to check if a given vertex\n",
        "    # 'v' is in min heap or not\n",
        "    def isInMinHeap(self, v):\n",
        " \n",
        "        if self.pos[v] < self.size:\n",
        "            return True\n",
        "        return False\n",
        " \n",
        " \n",
        "class Graph_Prim():\n",
        " \n",
        "    def __init__(self, V, graph = []):\n",
        "        self.V = V\n",
        "        self.graph = defaultdict(list)\n",
        "        if graph != []:\n",
        "          for edge in graph:\n",
        "            self.addEdge(edge[0], edge[1], edge[2])\n",
        " \n",
        "    # Adds an edge to an undirected graph\n",
        "    def addEdge(self, src, dest, weight):\n",
        " \n",
        "        # Add an edge from src to dest.  A new node is\n",
        "        # added to the adjacency list of src. The node\n",
        "        # is added at the beginning. The first element of\n",
        "        # the node has the destination and the second\n",
        "        # elements has the weight\n",
        "        newNode = [dest, weight]\n",
        "        self.graph[src].insert(0, newNode)\n",
        " \n",
        "        # Since graph is undirected, add an edge from\n",
        "        # dest to src also\n",
        "        newNode = [src, weight]\n",
        "        self.graph[dest].insert(0, newNode)\n",
        " \n",
        "    # The main function that prints the Minimum\n",
        "    # Spanning Tree(MST) using the Prim's Algorithm.\n",
        "    # It is a O(ELogV) function\n",
        "    def primMST(self):\n",
        "        start = time.time()\n",
        "        # Get the number of vertices in graph\n",
        "        V = self.V\n",
        " \n",
        "        # key values used to pick minimum weight edge in cut\n",
        "        key = []\n",
        " \n",
        "        # List to store constructed MST\n",
        "        parent = []\n",
        " \n",
        "        # minHeap represents set E\n",
        "        minHeap = Heap()\n",
        " \n",
        "        # Initialize min heap with all vertices. Key values of all\n",
        "        # vertices (except the 0th vertex) is initially infinite\n",
        "        for v in range(V):\n",
        "            parent.append(-1)\n",
        "            key.append(1e7)\n",
        "            minHeap.array.append(minHeap.newMinHeapNode(v, key[v]))\n",
        "            minHeap.pos.append(v)\n",
        " \n",
        "        # Make key value of 0th vertex as 0 so\n",
        "        # that it is extracted first\n",
        "        minHeap.pos[0] = 0\n",
        "        key[0] = 0\n",
        "        minHeap.decreaseKey(0, key[0])\n",
        " \n",
        "        # Initially size of min heap is equal to V\n",
        "        minHeap.size = V\n",
        " \n",
        "        # In the following loop, min heap contains all nodes\n",
        "        # not yet added in the MST.\n",
        "        while minHeap.isEmpty() == False:\n",
        " \n",
        "            # Extract the vertex with minimum distance value\n",
        "            newHeapNode = minHeap.extractMin()\n",
        "            u = newHeapNode[0]\n",
        " \n",
        "            # Traverse through all adjacent vertices of u\n",
        "            # (the extracted vertex) and update their\n",
        "            # distance values\n",
        "            for pCrawl in self.graph[u]:\n",
        " \n",
        "                v = pCrawl[0]\n",
        " \n",
        "                # If shortest distance to v is not finalized\n",
        "                # yet, and distance to v through u is less than\n",
        "                # its previously calculated distance\n",
        "                if minHeap.isInMinHeap(v) and pCrawl[1] < key[v]:\n",
        "                    key[v] = pCrawl[1]\n",
        "                    parent[v] = u\n",
        " \n",
        "                    # update distance value in min heap also\n",
        "                    minHeap.decreaseKey(v, key[v])\n",
        "\n",
        "        end = time.time()\n",
        "\n",
        "        minCost = 0\n",
        "        for i in range(1, V):\n",
        "          for edge in self.graph[i]:\n",
        "            if edge[0] == parent[i]:\n",
        "              minCost += edge[1]\n",
        "        minCost = minCost//2\n",
        "        print(\"Min Weight:\", minCost)\n",
        "        print(\"Execution time:\", (end-start) * 10**3, \"ms\")\n",
        "\"\"\""
      ],
      "metadata": {
        "colab": {
          "base_uri": "https://localhost:8080/",
          "height": 140
        },
        "id": "Ce5xORmeUeJN",
        "outputId": "2f77fab4-2c83-4f7b-f291-25f93b780e90"
      },
      "execution_count": 454,
      "outputs": [
        {
          "output_type": "execute_result",
          "data": {
            "text/plain": [
              "'\\nclass Heap():\\n \\n    def __init__(self):\\n        self.array = []\\n        self.size = 0\\n        self.pos = []\\n \\n    def newMinHeapNode(self, v, dist):\\n        minHeapNode = [v, dist]\\n        return minHeapNode\\n \\n    # A utility function to swap two nodes of\\n    # min heap. Needed for min heapify\\n    def swapMinHeapNode(self, a, b):\\n        t = self.array[a]\\n        self.array[a] = self.array[b]\\n        self.array[b] = t\\n \\n    # A standard function to heapify at given idx\\n    # This function also updates position of nodes\\n    # when they are swapped. Position is needed\\n    # for decreaseKey()\\n    def minHeapify(self, idx):\\n        smallest = idx\\n        left = 2 * idx + 1\\n        right = 2 * idx + 2\\n \\n        if left < self.size and self.array[left][1] <                 self.array[smallest][1]:\\n            smallest = left\\n \\n        if right < self.size and self.array[right][1] <                 self.array[smallest][1]:\\n            smallest = right\\n \\n        # The nodes to be swapped in min heap\\n        # if idx is not smallest\\n        if smallest != idx:\\n \\n            # Swap positions\\n            self.pos[self.array[smallest][0]] = idx\\n            self.pos[self.array[idx][0]] = smallest\\n \\n            # Swap nodes\\n            self.swapMinHeapNode(smallest, idx)\\n \\n            self.minHeapify(smallest)\\n \\n    # Standard function to extract minimum node from heap\\n    def extractMin(self):\\n \\n        # Return NULL wif heap is empty\\n        if self.isEmpty() == True:\\n            return\\n \\n        # Store the root node\\n        root = self.array[0]\\n \\n        # Replace root node with last node\\n        lastNode = self.array[self.size - 1]\\n        self.array[0] = lastNode\\n \\n        # Update position of last node\\n        self.pos[lastNode[0]] = 0\\n        self.pos[root[0]] = self.size - 1\\n \\n        # Reduce heap size and heapify root\\n        self.size -= 1\\n        self.minHeapify(0)\\n \\n        return root\\n \\n    def isEmpty(self):\\n        return True if self.size == 0 else False\\n \\n    def decreaseKey(self, v, dist):\\n \\n        # Get the index of v in  heap array\\n \\n        i = int(self.pos[v])\\n        \\n        # Get the node and update its dist value\\n        self.array[i][1] = dist\\n \\n        # Travel up while the complete tree is not\\n        # heapified. This is a O(Logn) loop\\n        while i > 0 and self.array[i][1] <                 self.array[(i - 1) // 2][1]:\\n \\n            # Swap this node with its parent\\n            self.pos[self.array[i][0]] = (i-1)/2\\n            self.pos[self.array[(i-1)//2][0]] = i\\n            self.swapMinHeapNode(i, (i - 1)//2)\\n \\n            # move to parent index\\n            i = (i - 1) // 2\\n \\n    # A utility function to check if a given vertex\\n    # \\'v\\' is in min heap or not\\n    def isInMinHeap(self, v):\\n \\n        if self.pos[v] < self.size:\\n            return True\\n        return False\\n \\n \\nclass Graph_Prim():\\n \\n    def __init__(self, V, graph = []):\\n        self.V = V\\n        self.graph = defaultdict(list)\\n        if graph != []:\\n          for edge in graph:\\n            self.addEdge(edge[0], edge[1], edge[2])\\n \\n    # Adds an edge to an undirected graph\\n    def addEdge(self, src, dest, weight):\\n \\n        # Add an edge from src to dest.  A new node is\\n        # added to the adjacency list of src. The node\\n        # is added at the beginning. The first element of\\n        # the node has the destination and the second\\n        # elements has the weight\\n        newNode = [dest, weight]\\n        self.graph[src].insert(0, newNode)\\n \\n        # Since graph is undirected, add an edge from\\n        # dest to src also\\n        newNode = [src, weight]\\n        self.graph[dest].insert(0, newNode)\\n \\n    # The main function that prints the Minimum\\n    # Spanning Tree(MST) using the Prim\\'s Algorithm.\\n    # It is a O(ELogV) function\\n    def primMST(self):\\n        start = time.time()\\n        # Get the number of vertices in graph\\n        V = self.V\\n \\n        # key values used to pick minimum weight edge in cut\\n        key = []\\n \\n        # List to store constructed MST\\n        parent = []\\n \\n        # minHeap represents set E\\n        minHeap = Heap()\\n \\n        # Initialize min heap with all vertices. Key values of all\\n        # vertices (except the 0th vertex) is initially infinite\\n        for v in range(V):\\n            parent.append(-1)\\n            key.append(1e7)\\n            minHeap.array.append(minHeap.newMinHeapNode(v, key[v]))\\n            minHeap.pos.append(v)\\n \\n        # Make key value of 0th vertex as 0 so\\n        # that it is extracted first\\n        minHeap.pos[0] = 0\\n        key[0] = 0\\n        minHeap.decreaseKey(0, key[0])\\n \\n        # Initially size of min heap is equal to V\\n        minHeap.size = V\\n \\n        # In the following loop, min heap contains all nodes\\n        # not yet added in the MST.\\n        while minHeap.isEmpty() == False:\\n \\n            # Extract the vertex with minimum distance value\\n            newHeapNode = minHeap.extractMin()\\n            u = newHeapNode[0]\\n \\n            # Traverse through all adjacent vertices of u\\n            # (the extracted vertex) and update their\\n            # distance values\\n            for pCrawl in self.graph[u]:\\n \\n                v = pCrawl[0]\\n \\n                # If shortest distance to v is not finalized\\n                # yet, and distance to v through u is less than\\n                # its previously calculated distance\\n                if minHeap.isInMinHeap(v) and pCrawl[1] < key[v]:\\n                    key[v] = pCrawl[1]\\n                    parent[v] = u\\n \\n                    # update distance value in min heap also\\n                    minHeap.decreaseKey(v, key[v])\\n\\n        end = time.time()\\n\\n        minCost = 0\\n        for i in range(1, V):\\n          for edge in self.graph[i]:\\n            if edge[0] == parent[i]:\\n              minCost += edge[1]\\n        minCost = minCost//2\\n        print(\"Min Weight:\", minCost)\\n        print(\"Execution time:\", (end-start) * 10**3, \"ms\")\\n'"
            ],
            "application/vnd.google.colaboratory.intrinsic+json": {
              "type": "string"
            }
          },
          "metadata": {},
          "execution_count": 454
        }
      ]
    },
    {
      "cell_type": "markdown",
      "source": [
        "# Define functions to create random connected graph"
      ],
      "metadata": {
        "id": "djNWdn50cCfC"
      }
    },
    {
      "cell_type": "code",
      "source": [
        "def IsConnected(G):\n",
        "  ck = [0 for _ in range(len(G))]\n",
        "\n",
        "  search = [0]\n",
        "  ck[0] = 1\n",
        "  while len(search) > 0:\n",
        "    for i in range(len(G[search[0]])):\n",
        "      if G[search[0]][i] != 0:\n",
        "        if not(ck[i]):\n",
        "          search.append(i)\n",
        "          ck[i] = 1\n",
        "    search.pop(0)\n",
        "  return not(0 in ck)"
      ],
      "metadata": {
        "id": "GckqwzYcdQCZ"
      },
      "execution_count": 455,
      "outputs": []
    },
    {
      "cell_type": "code",
      "source": [
        "def createRandomConnectedGraph(V = 0, p = 0.5, W_range = 100): # p is probability that a edge would be generated\n",
        "  G = [[0 for _ in range(V)] for _ in range(V)]\n",
        "  for i in range(V):\n",
        "    for j in range(i+1, V):\n",
        "      G[i][j] = G[j][i] = random.randrange(1, W_range)\n",
        "  for i in range(V):\n",
        "    for j in range(i+1, V):\n",
        "      if random.random() > p:\n",
        "        temp = G[i][j]\n",
        "        G[i][j] = G[j][i] = 0\n",
        "        if not(IsConnected(G)):\n",
        "          G[i][j] = G[j][i] = temp\n",
        "  return G"
      ],
      "metadata": {
        "id": "67vmcSLlaQ-F"
      },
      "execution_count": 456,
      "outputs": []
    },
    {
      "cell_type": "code",
      "source": [
        "def create_edge(G):\n",
        "  edges_set = []\n",
        "  for i in range(len(G)):\n",
        "    for j in range(len(G[i])):\n",
        "      if G[i][j] != 0:\n",
        "        edges_set.append([i, j, G[i][j]])\n",
        "  return edges_set"
      ],
      "metadata": {
        "id": "kw0qHg_oPXH3"
      },
      "execution_count": 457,
      "outputs": []
    },
    {
      "cell_type": "markdown",
      "source": [
        "# Compare Efficiencies of two algorithms"
      ],
      "metadata": {
        "id": "Jkb2MGz0cIW-"
      }
    },
    {
      "cell_type": "markdown",
      "source": [
        "## |V| = 10, dense graph"
      ],
      "metadata": {
        "id": "31tbadr8cgoV"
      }
    },
    {
      "cell_type": "code",
      "source": [
        "G = createRandomConnectedGraph(V = 10, p = 0.99, W_range = 100)\n",
        "\n",
        "E = create_edge(G)"
      ],
      "metadata": {
        "id": "yOomnSTZOa4Y"
      },
      "execution_count": 458,
      "outputs": []
    },
    {
      "cell_type": "code",
      "source": [
        "print(\"|E| =\", len(E)//2)"
      ],
      "metadata": {
        "colab": {
          "base_uri": "https://localhost:8080/"
        },
        "id": "MVrIMWYIcUOB",
        "outputId": "9f400581-2a68-4e59-81e9-ad639574db99"
      },
      "execution_count": 459,
      "outputs": [
        {
          "output_type": "stream",
          "name": "stdout",
          "text": [
            "|E| = 45\n"
          ]
        }
      ]
    },
    {
      "cell_type": "code",
      "source": [
        "Prim = Graph_Prim(len(G), G)\n",
        "Prim.primMST()"
      ],
      "metadata": {
        "colab": {
          "base_uri": "https://localhost:8080/"
        },
        "id": "zygCxpypQbZp",
        "outputId": "4803c965-f34a-42f6-ee57-5f148a1142f2"
      },
      "execution_count": 460,
      "outputs": [
        {
          "output_type": "stream",
          "name": "stdout",
          "text": [
            "Min Weight: 144\n",
            "Execution time: 0.046253204345703125 ms\n"
          ]
        }
      ]
    },
    {
      "cell_type": "code",
      "source": [
        "Kruskal = Graph_Kruskal(len(G), E)\n",
        "Kruskal.KruskalMST()"
      ],
      "metadata": {
        "colab": {
          "base_uri": "https://localhost:8080/"
        },
        "id": "WAYlBX1EQzl3",
        "outputId": "eaef6832-d55c-4d2d-8810-f1dd4d6b4b5c"
      },
      "execution_count": 461,
      "outputs": [
        {
          "output_type": "stream",
          "name": "stdout",
          "text": [
            "Min Weight: 144\n",
            "Execution time: 0.06532669067382812 ms\n"
          ]
        }
      ]
    },
    {
      "cell_type": "markdown",
      "source": [
        "## |V| = 10, sparse graph"
      ],
      "metadata": {
        "id": "jK9q6Sryczor"
      }
    },
    {
      "cell_type": "code",
      "source": [
        "G = createRandomConnectedGraph(V = 10, p = 0.05, W_range = 100)\n",
        "\n",
        "E = create_edge(G)"
      ],
      "metadata": {
        "id": "HC5Sh9_GYiH3"
      },
      "execution_count": 462,
      "outputs": []
    },
    {
      "cell_type": "code",
      "source": [
        "print(\"|E| =\", len(E)//2)"
      ],
      "metadata": {
        "colab": {
          "base_uri": "https://localhost:8080/"
        },
        "id": "NC9grkDsc50_",
        "outputId": "8a210827-24cf-4ca7-ab5e-92eacdfe453d"
      },
      "execution_count": 463,
      "outputs": [
        {
          "output_type": "stream",
          "name": "stdout",
          "text": [
            "|E| = 9\n"
          ]
        }
      ]
    },
    {
      "cell_type": "code",
      "source": [
        "Prim = Graph_Prim(len(G), G)\n",
        "Prim.primMST()"
      ],
      "metadata": {
        "colab": {
          "base_uri": "https://localhost:8080/"
        },
        "id": "UkiI1OCac7Is",
        "outputId": "0a19fb69-c2f7-42f3-e4d6-3af085c288bd"
      },
      "execution_count": 464,
      "outputs": [
        {
          "output_type": "stream",
          "name": "stdout",
          "text": [
            "Min Weight: 493\n",
            "Execution time: 0.0553131103515625 ms\n"
          ]
        }
      ]
    },
    {
      "cell_type": "code",
      "source": [
        "Kruskal = Graph_Kruskal(len(G), E)\n",
        "Kruskal.KruskalMST()"
      ],
      "metadata": {
        "colab": {
          "base_uri": "https://localhost:8080/"
        },
        "id": "UkXF7siFdD0b",
        "outputId": "163909df-e680-403e-dd87-dfabbf4d5e77"
      },
      "execution_count": 465,
      "outputs": [
        {
          "output_type": "stream",
          "name": "stdout",
          "text": [
            "Min Weight: 493\n",
            "Execution time: 0.03552436828613281 ms\n"
          ]
        }
      ]
    },
    {
      "cell_type": "markdown",
      "source": [
        "## |V| = 100, dense graph"
      ],
      "metadata": {
        "id": "AZ9Bo0LqdJlq"
      }
    },
    {
      "cell_type": "code",
      "source": [
        "G = createRandomConnectedGraph(V = 100, p = 0.99, W_range = 1000)\n",
        "\n",
        "E = create_edge(G)"
      ],
      "metadata": {
        "id": "vNSkERwPdGsV"
      },
      "execution_count": 466,
      "outputs": []
    },
    {
      "cell_type": "code",
      "source": [
        "print(\"|E| =\", len(E)//2)"
      ],
      "metadata": {
        "colab": {
          "base_uri": "https://localhost:8080/"
        },
        "id": "5De5dE0adTFM",
        "outputId": "188ae1e0-2f1f-4e29-c519-cbb458b6a77e"
      },
      "execution_count": 467,
      "outputs": [
        {
          "output_type": "stream",
          "name": "stdout",
          "text": [
            "|E| = 4910\n"
          ]
        }
      ]
    },
    {
      "cell_type": "code",
      "source": [
        "Prim = Graph_Prim(len(G), G)\n",
        "Prim.primMST()"
      ],
      "metadata": {
        "colab": {
          "base_uri": "https://localhost:8080/"
        },
        "id": "cclqgPNUdV6i",
        "outputId": "65ab9872-1ff6-47f0-8fdb-2b6000f08beb"
      },
      "execution_count": 468,
      "outputs": [
        {
          "output_type": "stream",
          "name": "stdout",
          "text": [
            "Min Weight: 1230\n",
            "Execution time: 7.459402084350586 ms\n"
          ]
        }
      ]
    },
    {
      "cell_type": "code",
      "source": [
        "Kruskal = Graph_Kruskal(len(G), E)\n",
        "Kruskal.KruskalMST()"
      ],
      "metadata": {
        "colab": {
          "base_uri": "https://localhost:8080/"
        },
        "id": "CN_A6yWXdYAk",
        "outputId": "ccf1746b-41e4-44ef-addb-0e463710f874"
      },
      "execution_count": 469,
      "outputs": [
        {
          "output_type": "stream",
          "name": "stdout",
          "text": [
            "Min Weight: 1230\n",
            "Execution time: 4.10151481628418 ms\n"
          ]
        }
      ]
    },
    {
      "cell_type": "markdown",
      "source": [
        "## |V| = 100, sparse graph"
      ],
      "metadata": {
        "id": "dPY96eQrdeNL"
      }
    },
    {
      "cell_type": "code",
      "source": [
        "G = createRandomConnectedGraph(V = 100, p = 0.01, W_range = 1000)\n",
        "\n",
        "E = create_edge(G)"
      ],
      "metadata": {
        "id": "vjORKYrudZEG"
      },
      "execution_count": 470,
      "outputs": []
    },
    {
      "cell_type": "code",
      "source": [
        "print(\"|E| =\", len(E)//2)"
      ],
      "metadata": {
        "colab": {
          "base_uri": "https://localhost:8080/"
        },
        "id": "NxEqIsoqey-R",
        "outputId": "fa58d05b-e26f-4e4a-c330-cf8ffecf9840"
      },
      "execution_count": 471,
      "outputs": [
        {
          "output_type": "stream",
          "name": "stdout",
          "text": [
            "|E| = 99\n"
          ]
        }
      ]
    },
    {
      "cell_type": "code",
      "source": [
        "Prim = Graph_Prim(len(G), G)\n",
        "Prim.primMST()"
      ],
      "metadata": {
        "colab": {
          "base_uri": "https://localhost:8080/"
        },
        "id": "B__4ej3cdl-G",
        "outputId": "a26c3e5a-ed0a-4249-aefd-a227133c27a5"
      },
      "execution_count": 472,
      "outputs": [
        {
          "output_type": "stream",
          "name": "stdout",
          "text": [
            "Min Weight: 48612\n",
            "Execution time: 2.0194053649902344 ms\n"
          ]
        }
      ]
    },
    {
      "cell_type": "code",
      "source": [
        "Kruskal = Graph_Kruskal(len(G), E)\n",
        "Kruskal.KruskalMST()"
      ],
      "metadata": {
        "colab": {
          "base_uri": "https://localhost:8080/"
        },
        "id": "Bsoq1aHddoW1",
        "outputId": "8efefd70-df86-4469-dc56-34dc1c24a6c9"
      },
      "execution_count": 473,
      "outputs": [
        {
          "output_type": "stream",
          "name": "stdout",
          "text": [
            "Min Weight: 48612\n",
            "Execution time: 0.3514289855957031 ms\n"
          ]
        }
      ]
    },
    {
      "cell_type": "markdown",
      "source": [
        "## |V| = 250, dense graph"
      ],
      "metadata": {
        "id": "9OaB-ok1dq2q"
      }
    },
    {
      "cell_type": "code",
      "source": [
        "G = createRandomConnectedGraph(V = 250, p = 0.99, W_range = 1000)\n",
        "\n",
        "E = create_edge(G)"
      ],
      "metadata": {
        "id": "5iOQioRhdplg"
      },
      "execution_count": 474,
      "outputs": []
    },
    {
      "cell_type": "code",
      "source": [
        "print(\"|E| =\", len(E)//2)"
      ],
      "metadata": {
        "colab": {
          "base_uri": "https://localhost:8080/"
        },
        "id": "ZIHvGYSKe2Sp",
        "outputId": "fa2e2cf4-14cd-4379-f8f6-0935b4b8583f"
      },
      "execution_count": 475,
      "outputs": [
        {
          "output_type": "stream",
          "name": "stdout",
          "text": [
            "|E| = 30801\n"
          ]
        }
      ]
    },
    {
      "cell_type": "code",
      "source": [
        "Prim = Graph_Prim(len(G), G)\n",
        "Prim.primMST()"
      ],
      "metadata": {
        "colab": {
          "base_uri": "https://localhost:8080/"
        },
        "id": "J3ZI-hdvdw33",
        "outputId": "61ea4369-5d62-4ab4-96c3-5d792713e294"
      },
      "execution_count": 476,
      "outputs": [
        {
          "output_type": "stream",
          "name": "stdout",
          "text": [
            "Min Weight: 1367\n",
            "Execution time: 24.24478530883789 ms\n"
          ]
        }
      ]
    },
    {
      "cell_type": "code",
      "source": [
        "Kruskal = Graph_Kruskal(len(G), E)\n",
        "Kruskal.KruskalMST()"
      ],
      "metadata": {
        "colab": {
          "base_uri": "https://localhost:8080/"
        },
        "id": "zX6cZnNMdypg",
        "outputId": "ae568411-ec6a-44f4-88a7-6d29500f451b"
      },
      "execution_count": 477,
      "outputs": [
        {
          "output_type": "stream",
          "name": "stdout",
          "text": [
            "Min Weight: 1367\n",
            "Execution time: 29.68764305114746 ms\n"
          ]
        }
      ]
    },
    {
      "cell_type": "markdown",
      "source": [
        "## |V| = 250, sparse graph"
      ],
      "metadata": {
        "id": "3K5Ez3Cyd0sT"
      }
    },
    {
      "cell_type": "code",
      "source": [
        "G = createRandomConnectedGraph(V = 250, p = 0.01, W_range = 1000)\n",
        "\n",
        "E = create_edge(G)"
      ],
      "metadata": {
        "id": "6Teb5f9Md0EI"
      },
      "execution_count": 478,
      "outputs": []
    },
    {
      "cell_type": "code",
      "source": [
        "print(\"|E| =\", len(E)//2)"
      ],
      "metadata": {
        "id": "4ItnLdDRe4Bo",
        "colab": {
          "base_uri": "https://localhost:8080/"
        },
        "outputId": "d93f7c96-4673-4edf-98f2-aec7d6a7c896"
      },
      "execution_count": 479,
      "outputs": [
        {
          "output_type": "stream",
          "name": "stdout",
          "text": [
            "|E| = 348\n"
          ]
        }
      ]
    },
    {
      "cell_type": "code",
      "source": [
        "Prim = Graph_Prim(len(G), G)\n",
        "Prim.primMST()"
      ],
      "metadata": {
        "id": "vjHKPQPTd_Mw",
        "colab": {
          "base_uri": "https://localhost:8080/"
        },
        "outputId": "e662df67-f398-4073-f7de-c38740acae76"
      },
      "execution_count": 480,
      "outputs": [
        {
          "output_type": "stream",
          "name": "stdout",
          "text": [
            "Min Weight: 87860\n",
            "Execution time: 11.81936264038086 ms\n"
          ]
        }
      ]
    },
    {
      "cell_type": "code",
      "source": [
        "Kruskal = Graph_Kruskal(len(G), E)\n",
        "Kruskal.KruskalMST()"
      ],
      "metadata": {
        "id": "e2uHkFRfeAcz",
        "colab": {
          "base_uri": "https://localhost:8080/"
        },
        "outputId": "e488b785-87df-4042-d484-11b3234ad48f"
      },
      "execution_count": 481,
      "outputs": [
        {
          "output_type": "stream",
          "name": "stdout",
          "text": [
            "Min Weight: 87860\n",
            "Execution time: 11.478185653686523 ms\n"
          ]
        }
      ]
    },
    {
      "cell_type": "markdown",
      "source": [
        "# Conclusion:\n",
        "In most cases, the Prim algorithm has a lower execution time when the graph is considered dense, while the Kruskal algorithm runs faster in the case of a sparse graph. This is because the Prim algorithm is implemented in this case using an adjacency matrix, while the Kruskal algorithm uses an adjacency list. This leads to the Kruskal algorithm taking a lot of time to sort the edges by weight and check connectivity when the graph is considered dense, while in the case of a sparse graph, the sorting and connectivity checking operations for the Kruskal algorithm take very little time.\n"
      ],
      "metadata": {
        "id": "3R0_mp9-eCax"
      }
    }
  ]
}
